{
 "cells": [
  {
   "cell_type": "code",
   "execution_count": 7,
   "id": "ca01ddb8-53ca-4a5c-8805-6c3d2b9ed170",
   "metadata": {},
   "outputs": [
    {
     "name": "stdout",
     "output_type": "stream",
     "text": [
      "odd\n"
     ]
    }
   ],
   "source": [
    "num=7\n",
    "if num%2==0:\n",
    "    print(\"even\")\n",
    "else:\n",
    "    print(\"odd\")"
   ]
  },
  {
   "cell_type": "code",
   "execution_count": 15,
   "id": "7fab5ea2-1b16-4155-b566-b947e4fe879b",
   "metadata": {},
   "outputs": [
    {
     "data": {
      "text/plain": [
       "'even'"
      ]
     },
     "execution_count": 15,
     "metadata": {},
     "output_type": "execute_result"
    }
   ],
   "source": [
    "num=8\n",
    "\"even\" if num%2==0 else \"odd\""
   ]
  },
  {
   "cell_type": "code",
   "execution_count": 23,
   "id": "71e67cef-451f-498c-b0df-0ca6e25342de",
   "metadata": {},
   "outputs": [
    {
     "name": "stdout",
     "output_type": "stream",
     "text": [
      "positive\n"
     ]
    }
   ],
   "source": [
    "x=10\n",
    "result=\"positive\" if x>0 else \"Negitive\"\n",
    "print(result)"
   ]
  },
  {
   "cell_type": "code",
   "execution_count": 41,
   "id": "f4b42972-68a5-48a6-a0ea-b4607ea8d658",
   "metadata": {},
   "outputs": [],
   "source": [
    "#Nested if-else in one line"
   ]
  },
  {
   "cell_type": "code",
   "execution_count": 35,
   "id": "45862001-81e6-4c08-a417-6e9fa52bc75b",
   "metadata": {
    "scrolled": true
   },
   "outputs": [
    {
     "name": "stdin",
     "output_type": "stream",
     "text": [
      " 10\n"
     ]
    },
    {
     "name": "stdout",
     "output_type": "stream",
     "text": [
      "positive\n"
     ]
    }
   ],
   "source": [
    "num=int(input())\n",
    "result=\"positive\" if num>0 else(\"Negitive\" if num<0 else \"Zero\")\n",
    "print(result)"
   ]
  },
  {
   "cell_type": "code",
   "execution_count": 43,
   "id": "48e91a53-0370-414c-b256-23a21316ed32",
   "metadata": {},
   "outputs": [
    {
     "data": {
      "text/plain": [
       "[2, 18, 4, 20, 112, 178]"
      ]
     },
     "execution_count": 43,
     "metadata": {},
     "output_type": "execute_result"
    }
   ],
   "source": [
    "L=[1,9,2,10,56,89]\n",
    "[2*x for x in L]"
   ]
  },
  {
   "cell_type": "code",
   "execution_count": 45,
   "id": "07d7fd5e-ce21-443f-b593-c6fbb4785788",
   "metadata": {},
   "outputs": [
    {
     "data": {
      "text/plain": [
       "[2, 10, 56]"
      ]
     },
     "execution_count": 45,
     "metadata": {},
     "output_type": "execute_result"
    }
   ],
   "source": [
    "#print even numbers\n",
    "L=[1,9,2,10,56,89]\n",
    "[x for x in L if x%2==0]"
   ]
  },
  {
   "cell_type": "code",
   "execution_count": null,
   "id": "9c6ba69c-b287-4512-9224-df6514b269b1",
   "metadata": {},
   "outputs": [],
   "source": [
    "sal=[40000,60000,80000,45000]\n"
   ]
  },
  {
   "cell_type": "code",
   "execution_count": 47,
   "id": "cd4cc455-bab9-455d-8ad0-ce2ab4ad805e",
   "metadata": {},
   "outputs": [
    {
     "data": {
      "text/plain": [
       "{'ram': [70, 71, 98, 100], 'Jhon': [56, 98, 67, 65]}"
      ]
     },
     "execution_count": 47,
     "metadata": {},
     "output_type": "execute_result"
    }
   ],
   "source": [
    "d1={'ram':[70, 71, 98, 100], 'Jhon':[56, 98, 67, 65]}\n",
    "d1"
   ]
  },
  {
   "cell_type": "code",
   "execution_count": 49,
   "id": "91aae7e3-6344-4ee0-a615-56afeb04474b",
   "metadata": {},
   "outputs": [
    {
     "data": {
      "text/plain": [
       "{'ram': 84.75, 'Jhon': 71.5}"
      ]
     },
     "execution_count": 49,
     "metadata": {},
     "output_type": "execute_result"
    }
   ],
   "source": [
    "{k:sum(v)/len(v) for k,v in d1.items()}"
   ]
  },
  {
   "cell_type": "code",
   "execution_count": 51,
   "id": "b4c61cb6-38db-4648-a394-c662a9852b8a",
   "metadata": {},
   "outputs": [],
   "source": [
    "def mean_value(given_list):\n",
    "    total=sum(given_list)\n",
    "    avg_value=total/len(given_list)\n",
    "    return avg_value"
   ]
  },
  {
   "cell_type": "code",
   "execution_count": 53,
   "id": "0656267b-960a-431f-bf00-8cbf1a50f149",
   "metadata": {},
   "outputs": [
    {
     "data": {
      "text/plain": [
       "5.5"
      ]
     },
     "execution_count": 53,
     "metadata": {},
     "output_type": "execute_result"
    }
   ],
   "source": [
    "L=[1,2,3,4,5,6,7,8,9,10]\n",
    "mean_value(L)"
   ]
  },
  {
   "cell_type": "code",
   "execution_count": 55,
   "id": "566d420d-1ce3-4da6-adb9-99ac1b5304dc",
   "metadata": {},
   "outputs": [],
   "source": [
    "def great():\n",
    "    return \"Good morning\""
   ]
  },
  {
   "cell_type": "code",
   "execution_count": 61,
   "id": "76f6ad81-ee7d-4373-b965-e45eafab119d",
   "metadata": {},
   "outputs": [
    {
     "name": "stdin",
     "output_type": "stream",
     "text": [
      " Adith\n"
     ]
    },
    {
     "data": {
      "text/plain": [
       "'Good morning'"
      ]
     },
     "execution_count": 61,
     "metadata": {},
     "output_type": "execute_result"
    }
   ],
   "source": [
    "a=input()\n",
    "great()"
   ]
  },
  {
   "cell_type": "code",
   "execution_count": 63,
   "id": "37cbd055-1c3e-471c-9788-00def7e892f2",
   "metadata": {},
   "outputs": [],
   "source": [
    "def avg_value(*n):\n",
    "    l=len(n)\n",
    "    avg = sum(n)/l\n",
    "    return avg"
   ]
  },
  {
   "cell_type": "code",
   "execution_count": 67,
   "id": "180ce5d8-2c86-4749-9b3b-77da721bcb6d",
   "metadata": {},
   "outputs": [
    {
     "data": {
      "text/plain": [
       "218.0"
      ]
     },
     "execution_count": 67,
     "metadata": {},
     "output_type": "execute_result"
    }
   ],
   "source": [
    "avg_value(10,20,60,100,900)"
   ]
  },
  {
   "cell_type": "code",
   "execution_count": null,
   "id": "dd3d9f0c-c933-4fe5-98f1-ba40d8254fd7",
   "metadata": {},
   "outputs": [],
   "source": []
  }
 ],
 "metadata": {
  "kernelspec": {
   "display_name": "Python [conda env:base] *",
   "language": "python",
   "name": "conda-base-py"
  },
  "language_info": {
   "codemirror_mode": {
    "name": "ipython",
    "version": 3
   },
   "file_extension": ".py",
   "mimetype": "text/x-python",
   "name": "python",
   "nbconvert_exporter": "python",
   "pygments_lexer": "ipython3",
   "version": "3.12.7"
  }
 },
 "nbformat": 4,
 "nbformat_minor": 5
}
