{
 "cells": [
  {
   "cell_type": "code",
   "execution_count": 4,
   "id": "091ba43e-ee26-45ae-b3f7-b3ab2e984733",
   "metadata": {},
   "outputs": [
    {
     "name": "stdout",
     "output_type": "stream",
     "text": [
      "First 2 rows:\n",
      "    Name  Age Department  Salary\n",
      "0   John   28         HR   45000\n",
      "1  Alice   34         IT   60000\n",
      "\n",
      "Average Salary: 47500.0\n",
      "\n",
      "Employees older than 25:\n",
      "    Name  Age Department  Salary   Bonus\n",
      "0   John   28         HR   45000  4500.0\n",
      "1  Alice   34         IT   60000  6000.0\n",
      "3  Diana   29    Finance   50000  5000.0\n"
     ]
    }
   ],
   "source": [
    "import pandas as pd\n",
    "\n",
    "# 1. Create DataFrame\n",
    "data = {'Name': ['John', 'Alice', 'Bob', 'Diana'],\n",
    "        'Age': [28, 34, 23, 29],\n",
    "        'Department': ['HR', 'IT', 'Marketing', 'Finance'],\n",
    "        'Salary': [45000, 60000, 35000, 50000]}\n",
    "df = pd.DataFrame(data)\n",
    "\n",
    "# 2. Display first 2 rows\n",
    "print(\"First 2 rows:\")\n",
    "print(df.head(2))\n",
    "\n",
    "# 3. Add 'Bonus' column\n",
    "df['Bonus'] = df['Salary'] * 0.10\n",
    "\n",
    "# 4. Calculate average salary\n",
    "avg_salary = df['Salary'].mean()\n",
    "print(f\"\\nAverage Salary: {avg_salary}\")\n",
    "\n",
    "# 5. Filter employees older than 25\n",
    "older_than_25 = df[df['Age'] > 25]\n",
    "print(\"\\nEmployees older than 25:\")\n",
    "print(older_than_25)"
   ]
  },
  {
   "cell_type": "code",
   "execution_count": null,
   "id": "0652fa8e-58e5-4b16-863c-f5e93ad3fd61",
   "metadata": {},
   "outputs": [],
   "source": []
  }
 ],
 "metadata": {
  "kernelspec": {
   "display_name": "Python [conda env:base] *",
   "language": "python",
   "name": "conda-base-py"
  },
  "language_info": {
   "codemirror_mode": {
    "name": "ipython",
    "version": 3
   },
   "file_extension": ".py",
   "mimetype": "text/x-python",
   "name": "python",
   "nbconvert_exporter": "python",
   "pygments_lexer": "ipython3",
   "version": "3.12.7"
  }
 },
 "nbformat": 4,
 "nbformat_minor": 5
}
