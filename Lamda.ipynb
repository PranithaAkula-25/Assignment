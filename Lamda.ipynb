{
 "cells": [
  {
   "cell_type": "code",
   "execution_count": 5,
   "id": "499c9903-3c88-4f4a-9afe-f5f74b19ac5e",
   "metadata": {},
   "outputs": [
    {
     "name": "stdout",
     "output_type": "stream",
     "text": [
      "Good Morning Soumya!\n"
     ]
    }
   ],
   "source": [
    "greet =lambda name:print(f\"Good Morning {name}!\")\n",
    "greet(\"Soumya\")"
   ]
  },
  {
   "cell_type": "code",
   "execution_count": null,
   "id": "1c8f3772-b973-41a3-b78d-707c161772d3",
   "metadata": {},
   "outputs": [],
   "source": [
    "event=lambda L:[x for x in L if x%2 "
   ]
  },
  {
   "cell_type": "code",
   "execution_count": 13,
   "id": "78c527d5-e99c-445f-ab74-245f3769c2f8",
   "metadata": {},
   "outputs": [
    {
     "data": {
      "text/plain": [
       "[100, 38, 56, 20]"
      ]
     },
     "execution_count": 13,
     "metadata": {},
     "output_type": "execute_result"
    }
   ],
   "source": [
    "my_list=[100,3,9,38,43,56,20]\n",
    "event(my_list)"
   ]
  },
  {
   "cell_type": "code",
   "execution_count": null,
   "id": "58dddd8f-5c6c-49dd-9461-cf0a89178731",
   "metadata": {},
   "outputs": [],
   "source": []
  }
 ],
 "metadata": {
  "kernelspec": {
   "display_name": "Python [conda env:base] *",
   "language": "python",
   "name": "conda-base-py"
  },
  "language_info": {
   "codemirror_mode": {
    "name": "ipython",
    "version": 3
   },
   "file_extension": ".py",
   "mimetype": "text/x-python",
   "name": "python",
   "nbconvert_exporter": "python",
   "pygments_lexer": "ipython3",
   "version": "3.12.7"
  }
 },
 "nbformat": 4,
 "nbformat_minor": 5
}
