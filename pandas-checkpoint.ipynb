{
 "cells": [
  {
   "cell_type": "code",
   "execution_count": 3,
   "id": "9337a834-6272-466a-9abe-12862e95807d",
   "metadata": {},
   "outputs": [],
   "source": [
    "#important features of pandas\n",
    "# data structures\n",
    "# data cleaning\n",
    "# indexing and slicing\n",
    "# data aggregation\n",
    "# data transformation\n",
    "# time series handling\n",
    "# data visualization\n",
    "# file i/o"
   ]
  },
  {
   "cell_type": "code",
   "execution_count": 7,
   "id": "6b8362f7-f299-492b-a6da-cc380534d5c4",
   "metadata": {},
   "outputs": [
    {
     "name": "stdout",
     "output_type": "stream",
     "text": [
      "     name  class\n",
      "0  Anjali      1\n",
      "1   Rahul      2\n",
      "2    Ravi      3\n",
      "3  Kishan      4\n"
     ]
    }
   ],
   "source": [
    "import pandas as pd\n",
    "li={\n",
    "    'name':['Anjali','Rahul','Ravi','Kishan'],\n",
    "    'class':[1,2,3,4]\n",
    "}\n",
    "up=pd.DataFrame(li)\n",
    "print(up)"
   ]
  },
  {
   "cell_type": "code",
   "execution_count": 21,
   "id": "dfbef8a7-cd26-45d7-8ddc-fd1b7e7ae0aa",
   "metadata": {},
   "outputs": [
    {
     "data": {
      "text/plain": [
       "0    10\n",
       "1    20\n",
       "2    20\n",
       "3    40\n",
       "4     9\n",
       "dtype: int64"
      ]
     },
     "execution_count": 21,
     "metadata": {},
     "output_type": "execute_result"
    }
   ],
   "source": [
    "data=[10,20,20,40,9]\n",
    "series=pd.Series(data)\n",
    "series"
   ]
  },
  {
   "cell_type": "code",
   "execution_count": 23,
   "id": "d304dd60-ff44-4108-9370-cb510876f94d",
   "metadata": {},
   "outputs": [
    {
     "name": "stdout",
     "output_type": "stream",
     "text": [
      "a    10\n",
      "b    20\n",
      "c    30\n",
      "d    40\n",
      "e    12\n",
      "f    80\n",
      "dtype: int64\n"
     ]
    }
   ],
   "source": [
    "# create a series using a custom index/label\n",
    "data=[10,20,30,40,12,80]\n",
    "i=['a','b','c','d','e','f']\n",
    "series=pd.Series(data, index=i)\n",
    "print(series)"
   ]
  },
  {
   "cell_type": "code",
   "execution_count": 25,
   "id": "784764f4-52c3-4c2f-9fd3-68f3505df42d",
   "metadata": {},
   "outputs": [
    {
     "name": "stdout",
     "output_type": "stream",
     "text": [
      "a    10\n",
      "b    20\n",
      "c    30\n",
      "d    40\n",
      "dtype: int64\n"
     ]
    }
   ],
   "source": [
    "# create pandas series using dictionary\n",
    "data={'a':10,'b':20,'c':30 ,'d':40 }\n",
    "series=pd.Series(data)\n",
    "print(series)"
   ]
  },
  {
   "cell_type": "code",
   "execution_count": 33,
   "id": "67e80c6d-a451-4483-b463-540f1e7a67f6",
   "metadata": {},
   "outputs": [
    {
     "name": "stdout",
     "output_type": "stream",
     "text": [
      "    Name  Age Country\n",
      "0  Alice   25   India\n",
      "1    Bob   30   India\n",
      "2   Mary   45     Usa\n",
      "3   John   50     Usa\n",
      "4  Jacob   55      Uk\n"
     ]
    }
   ],
   "source": [
    "# pandas dataframe\n",
    "hi={'Name': [ 'Alice','Bob','Mary','John','Jacob'],\n",
    "    'Age':[25,30,45,50,55],\n",
    "    'Country':['India','India','Usa','Usa','Uk']}\n",
    "df=pd.DataFrame(hi)\n",
    "print(df)"
   ]
  },
  {
   "cell_type": "code",
   "execution_count": 51,
   "id": "ba5c8600-108c-4fb3-97b3-fe541eb6584f",
   "metadata": {},
   "outputs": [
    {
     "name": "stdout",
     "output_type": "stream",
     "text": [
      "[[10  5 20]\n",
      " [14 25  6]\n",
      " [ 7 18  9]]\n",
      "    0   1   2\n",
      "0  10   5  20\n",
      "1  14  25   6\n",
      "2   7  18   9\n"
     ]
    }
   ],
   "source": [
    "#create pandas dataframe from a 2d numpy array\n",
    "import numpy as np\n",
    "arr=np.array([[10,5,20],[14,25,6],[7,18,9]])\n",
    "print(arr)\n",
    "df=pd.DataFrame(arr)\n",
    "print(df)"
   ]
  },
  {
   "cell_type": "code",
   "execution_count": null,
   "id": "81744bc0-c09e-4db6-a17e-5a8f6b5573a3",
   "metadata": {},
   "outputs": [],
   "source": [
    "stu={\n",
    "    i="
   ]
  },
  {
   "cell_type": "code",
   "execution_count": null,
   "id": "2470cabe-9b1d-4993-9407-2bcaeab518e9",
   "metadata": {},
   "outputs": [],
   "source": []
  }
 ],
 "metadata": {
  "kernelspec": {
   "display_name": "Python [conda env:base] *",
   "language": "python",
   "name": "conda-base-py"
  },
  "language_info": {
   "codemirror_mode": {
    "name": "ipython",
    "version": 3
   },
   "file_extension": ".py",
   "mimetype": "text/x-python",
   "name": "python",
   "nbconvert_exporter": "python",
   "pygments_lexer": "ipython3",
   "version": "3.12.7"
  }
 },
 "nbformat": 4,
 "nbformat_minor": 5
}
