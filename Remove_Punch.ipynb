{
 "cells": [
  {
   "cell_type": "code",
   "execution_count": 7,
   "id": "973d2d66-fb1f-4fb8-91c9-e9ff61a69fdd",
   "metadata": {},
   "outputs": [
    {
     "name": "stdout",
     "output_type": "stream",
     "text": [
      "Hello world Lets remove punctuation shall we\n"
     ]
    }
   ],
   "source": [
    "punc_marks=['.',',','\"','{','}',';',':','-','?','$',\"'\",'*','!','@','#','%','^','&','(',')','+']\n",
    "input=\"Hello, world! Let's remove punctuation: shall we?\"\n",
    "output=\"\"\n",
    "for char in input:\n",
    "    if char not in punc_marks:\n",
    "        output+=char\n",
    "print(output)"
   ]
  },
  {
   "cell_type": "code",
   "execution_count": 41,
   "id": "ed6b2867-c2f1-4881-9a7a-9b94131b2a66",
   "metadata": {},
   "outputs": [],
   "source": [
    "def remove_punc(input_text):\n",
    "    punc_marks=['.',',','\"','{','}',';',':','-','?','$',\"'\",'*','!','@','#','%','^','&','(',')','+']\n",
    "    output=\"\"\n",
    "    for char in input:\n",
    "        if char not in punc_marks:\n",
    "            output+=char\n",
    "    return output"
   ]
  },
  {
   "cell_type": "code",
   "execution_count": 51,
   "id": "ab1eace8-2f8f-4448-8710-afab10416614",
   "metadata": {},
   "outputs": [],
   "source": [
    "def rsw(input_text):\n",
    "    stop_words=[\"an\",\"and\",\"am\",\"is\",\"a\",\"in\",\"on\",\"at\",\"to\"]\n",
    "    words= input_text.split()\n",
    "    filtered_words=[]\n",
    "    for word in words:\n",
    "        if word.lower() not in stop_words:\n",
    "            filtered_words.append(word)\n",
    "    output_text=' '.join(filtered_words)\n",
    "    return (output_text)"
   ]
  },
  {
   "cell_type": "code",
   "execution_count": 53,
   "id": "44233035-a2d6-4f17-8dc6-9871e7d798fa",
   "metadata": {},
   "outputs": [
    {
     "data": {
      "text/plain": [
       "'there any problem ? are you ok!'"
      ]
     },
     "execution_count": 53,
     "metadata": {},
     "output_type": "execute_result"
    }
   ],
   "source": [
    "rsw('Is there any problem ? are you ok!')"
   ]
  },
  {
   "cell_type": "code",
   "execution_count": null,
   "id": "63df48a9-baef-4889-8d85-705fc03260be",
   "metadata": {},
   "outputs": [],
   "source": []
  }
 ],
 "metadata": {
  "kernelspec": {
   "display_name": "Python [conda env:base] *",
   "language": "python",
   "name": "conda-base-py"
  },
  "language_info": {
   "codemirror_mode": {
    "name": "ipython",
    "version": 3
   },
   "file_extension": ".py",
   "mimetype": "text/x-python",
   "name": "python",
   "nbconvert_exporter": "python",
   "pygments_lexer": "ipython3",
   "version": "3.12.7"
  }
 },
 "nbformat": 4,
 "nbformat_minor": 5
}
